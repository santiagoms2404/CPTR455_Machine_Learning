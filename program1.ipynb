{
  "nbformat": 4,
  "nbformat_minor": 0,
  "metadata": {
    "colab": {
      "name": "program1.ipynb",
      "provenance": [],
      "authorship_tag": "ABX9TyNTXoOg9dYFo5ElSNSKzCti",
      "include_colab_link": true
    },
    "kernelspec": {
      "name": "python3",
      "display_name": "Python 3"
    },
    "language_info": {
      "name": "python"
    }
  },
  "cells": [
    {
      "cell_type": "markdown",
      "metadata": {
        "id": "view-in-github",
        "colab_type": "text"
      },
      "source": [
        "<a href=\"https://colab.research.google.com/github/santiagoms2404/CPTR455_Machine_Learning/blob/master/program1.ipynb\" target=\"_parent\"><img src=\"https://colab.research.google.com/assets/colab-badge.svg\" alt=\"Open In Colab\"/></a>"
      ]
    },
    {
      "cell_type": "markdown",
      "source": [
        "# My first Python program on Colab : Ploting the sine wave"
      ],
      "metadata": {
        "id": "DFYTmBz91OUq"
      }
    },
    {
      "cell_type": "markdown",
      "source": [
        "Import the required packages"
      ],
      "metadata": {
        "id": "vK6cEoda2waT"
      }
    },
    {
      "cell_type": "code",
      "source": [
        "import numpy as np\n",
        "import matplotlib.pyplot as plot"
      ],
      "metadata": {
        "id": "ZJW9SAC11USW"
      },
      "execution_count": 2,
      "outputs": []
    },
    {
      "cell_type": "markdown",
      "source": [
        "setting x-axis and y-axis (amplitude)"
      ],
      "metadata": {
        "id": "83UwBYD31qWd"
      }
    },
    {
      "cell_type": "code",
      "source": [
        "time = np.arange(0, 10, 0.1);\n",
        "amplitude = np.sin(time)"
      ],
      "metadata": {
        "id": "C1ZNI5j411hs"
      },
      "execution_count": 3,
      "outputs": []
    },
    {
      "cell_type": "markdown",
      "source": [
        "## Plot a sine wave using time and amplitude obteined for the sine wave"
      ],
      "metadata": {
        "id": "PyLf8eFR2GUr"
      }
    },
    {
      "cell_type": "code",
      "source": [
        "plot.plot(time, amplitude)\n",
        "plot.title('Sine wave')\n",
        "plot.xlabel('Time')\n",
        "plot.ylabel('Amplitude = sin(Time)')\n",
        "plot.grid(True, which='both')\n",
        "plot.axhline(y=0, color='b')\n",
        "plot.show()"
      ],
      "metadata": {
        "colab": {
          "base_uri": "https://localhost:8080/",
          "height": 295
        },
        "id": "zp2nNpjy2Vp8",
        "outputId": "0ba5f7eb-b734-4deb-e391-7e0cfa289e39"
      },
      "execution_count": 4,
      "outputs": [
        {
          "output_type": "display_data",
          "data": {
            "image/png": "[encoded data removed]",
            "text/plain": [
              "<Figure size 432x288 with 1 Axes>"
            ]
          },
          "metadata": {
            "needs_background": "light"
          }
        }
      ]
    },
    {
      "cell_type": "markdown",
      "source": [
        "<p> This is a paragraph <p>\n"
      ],
      "metadata": {
        "id": "fR6td8DCqHR3"
      }
    },
    {
      "cell_type": "markdown",
      "source": [
        "# H1\n",
        "## H2\n",
        "### H3\n",
        "#### H4"
      ],
      "metadata": {
        "id": "bcZN7NYbrNXp"
      }
    },
    {
      "cell_type": "markdown",
      "source": [
        "1. First item\n",
        "2. Second item \n",
        "3. Third item\n"
      ],
      "metadata": {
        "id": "vCriyu3yri-p"
      }
    },
    {
      "cell_type": "markdown",
      "source": [
        "[Markdown](https://www.markdownguide.org/cheat-sheet/)"
      ],
      "metadata": {
        "id": "8t7KORIBr7hx"
      }
    },
    {
      "cell_type": "markdown",
      "source": [
        "![image of Markdown](https://upload.wikimedia.org/wikipedia/commons/thumb/4/48/Markdown-mark.svg/1200px-Markdown-mark.svg.png)"
      ],
      "metadata": {
        "id": "GTAW3gtAsN9j"
      }
    },
    {
      "cell_type": "markdown",
      "source": [
        "##*This is italicized text*"
      ],
      "metadata": {
        "id": "HQD0i8Mot96e"
      }
    },
    {
      "cell_type": "markdown",
      "source": [
        "##**This is a bold text**"
      ],
      "metadata": {
        "id": "Eq1T7be89r27"
      }
    },
    {
      "cell_type": "markdown",
      "source": [
        "- First Unordered item\n",
        "- Second Unordered item\n",
        "- Third Unordered item"
      ],
      "metadata": {
        "id": "EdOtD6qd9xxf"
      }
    },
    {
      "cell_type": "markdown",
      "source": [
        "---"
      ],
      "metadata": {
        "id": "Tq0YmnYj-PUL"
      }
    },
    {
      "cell_type": "markdown",
      "source": [
        "`print(\"Hello world! \")`"
      ],
      "metadata": {
        "id": "tbfBjbly-R0k"
      }
    },
    {
      "cell_type": "markdown",
      "source": [
        "##This is an emoji! 😃"
      ],
      "metadata": {
        "id": "EnjzFH-m-w31"
      }
    },
    {
      "cell_type": "markdown",
      "source": [
        "##<mark>This is a highlighted phrase</mark>."
      ],
      "metadata": {
        "id": "XAktNDdo-5rb"
      }
    }
  ]
}